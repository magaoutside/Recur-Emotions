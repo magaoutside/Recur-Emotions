{
 "cells": [
  {
   "cell_type": "code",
   "execution_count": 1,
   "metadata": {},
   "outputs": [],
   "source": [
    "import cv2\n",
    "import numpy as np\n",
    "import tensorflow as tf\n",
    "from tensorflow.keras.models import load_model\n",
    "import os\n",
    "from datetime import datetime"
   ]
  },
  {
   "cell_type": "code",
   "execution_count": 2,
   "metadata": {},
   "outputs": [],
   "source": [
    "# Список меток эмоций, которые может распознавать модель\n",
    "emotion_labels = ['Anger', 'Disgust', 'Fear', 'Happiness', 'Sadness', 'Surprise', 'Neutral']"
   ]
  },
  {
   "cell_type": "code",
   "execution_count": 3,
   "metadata": {},
   "outputs": [],
   "source": [
    "# Функция для записи логов в файл\n",
    "def log_emotion(image_name, emotion, confidence):\n",
    "    log_dir = \"logs\"\n",
    "    if not os.path.exists(log_dir):\n",
    "        os.makedirs(log_dir)  # Создаем папку logs, если она не существует\n",
    "    \n",
    "    log_file = os.path.join(log_dir, \"imglog.txt\")\n",
    "    current_time = datetime.now().strftime(\"%Y-%m-%d %H:%M:%S\")  # Получаем текущее время\n",
    "    log_entry = f\"{image_name} - {current_time} - {emotion} - {confidence:.2f}%\\n\"\n",
    "    \n",
    "    with open(log_file, \"a\") as f:\n",
    "        f.write(log_entry)  # Записываем лог в файл"
   ]
  },
  {
   "cell_type": "code",
   "execution_count": 4,
   "metadata": {},
   "outputs": [],
   "source": [
    "# Функция для предсказания эмоции на изображении\n",
    "def predict_emotion(frame, model, image_name):\n",
    "    gray = cv2.cvtColor(frame, cv2.COLOR_BGR2GRAY)\n",
    "    face_cascade = cv2.CascadeClassifier(cv2.data.haarcascades + 'haarcascade_frontalface_default.xml')\n",
    "    faces = face_cascade.detectMultiScale(gray, scaleFactor=1.1, minNeighbors=5, minSize=(30, 30))\n",
    "    \n",
    "    for (x, y, w, h) in faces:\n",
    "        face = gray[y:y + h, x:x + w]\n",
    "        face_resized = cv2.resize(face, (48, 48))\n",
    "        face_normalized = face_resized / 255.0\n",
    "        face_reshaped = np.expand_dims(face_normalized, axis=0)\n",
    "        face_reshaped = np.expand_dims(face_reshaped, axis=-1)\n",
    "        emotion_prediction = model.predict(face_reshaped)\n",
    "        max_index = np.argmax(emotion_prediction[0])\n",
    "        emotion = emotion_labels[max_index]\n",
    "        confidence = np.max(emotion_prediction[0]) * 100\n",
    "        \n",
    "        # Логируем эмоцию и точность\n",
    "        log_emotion(image_name, emotion, confidence)\n",
    "        \n",
    "        # Вывод эмоции и процента уверенности в консоль\n",
    "        print(f\"Эмоция: {emotion}, Уверенность: {confidence:.2f}%\")\n",
    "\n",
    "    return frame"
   ]
  },
  {
   "cell_type": "code",
   "execution_count": 5,
   "metadata": {},
   "outputs": [],
   "source": [
    "# Функция для обработки изображения\n",
    "def process_image(image_path):\n",
    "    try:\n",
    "        # Загрузка модели для распознавания эмоций\n",
    "        model = tf.keras.models.load_model(\"model/model.h5\")\n",
    "        print(\"Модель успешно загружена.\")\n",
    "    except Exception as e:\n",
    "        # Обработка ошибки загрузки модели\n",
    "        print(f\"Ошибка загрузки модели: {e}\")\n",
    "        return\n",
    "\n",
    "    # Загрузка изображения\n",
    "    frame = cv2.imread(image_path)\n",
    "    if frame is None:\n",
    "        # Обработка ошибки загрузки изображения\n",
    "        print(\"Ошибка загрузки изображения.\")\n",
    "        return\n",
    "\n",
    "    # Получаем название файла из пути\n",
    "    image_name = os.path.basename(image_path)\n",
    "\n",
    "    # Определение эмоции на изображении\n",
    "    predict_emotion(frame, model, image_name)\n",
    "    \n",
    "    # Сообщение о завершении работы\n",
    "    print(\"Работа завершена.\")\n",
    "    return"
   ]
  },
  {
   "cell_type": "code",
   "execution_count": 6,
   "metadata": {},
   "outputs": [
    {
     "name": "stderr",
     "output_type": "stream",
     "text": [
      "WARNING:absl:Compiled the loaded model, but the compiled metrics have yet to be built. `model.compile_metrics` will be empty until you train or evaluate the model.\n"
     ]
    },
    {
     "name": "stdout",
     "output_type": "stream",
     "text": [
      "Файл найден: c:\\Users\\1\\Documents\\Big Challenges project\\imgforemo\\photo1.jpg\n",
      "Модель успешно загружена.\n",
      "\u001b[1m1/1\u001b[0m \u001b[32m━━━━━━━━━━━━━━━━━━━━\u001b[0m\u001b[37m\u001b[0m \u001b[1m0s\u001b[0m 116ms/step\n",
      "Эмоция: Surprise, Уверенность: 39.66%\n",
      "\u001b[1m1/1\u001b[0m \u001b[32m━━━━━━━━━━━━━━━━━━━━\u001b[0m\u001b[37m\u001b[0m \u001b[1m0s\u001b[0m 36ms/step\n",
      "Эмоция: Surprise, Уверенность: 67.31%\n",
      "Работа завершена.\n"
     ]
    }
   ],
   "source": [
    "if __name__ == \"__main__\":\n",
    "    # Ввод пути к изображению\n",
    "    image_path = input(\"Введите путь к изображению: \")\n",
    "    \n",
    "    # Преобразование пути в абсолютный\n",
    "    image_path = os.path.abspath(image_path)\n",
    "\n",
    "    # Проверка существования файла\n",
    "    if not os.path.exists(image_path):\n",
    "        print(f\"Файл не найден: {image_path}\")\n",
    "    else:\n",
    "        print(f\"Файл найден: {image_path}\")\n",
    "        # Обработка изображения\n",
    "        process_image(image_path)"
   ]
  },
  {
   "cell_type": "code",
   "execution_count": 14,
   "metadata": {},
   "outputs": [
    {
     "name": "stdout",
     "output_type": "stream",
     "text": [
      "Текущая рабочая директория: c:\\Users\\1\\Documents\\Big Challenges project\n"
     ]
    }
   ],
   "source": []
  },
  {
   "cell_type": "code",
   "execution_count": null,
   "metadata": {},
   "outputs": [],
   "source": [
    "# import cv2\n",
    "# import numpy as np\n",
    "# import tensorflow as tf\n",
    "# from tensorflow.keras.models import load_model\n",
    "# import os\n",
    "# from datetime import datetime\n",
    "\n",
    "# # Список меток эмоций, которые может распознавать модель\n",
    "# emotion_labels = ['Anger', 'Disgust', 'Fear', 'Happiness', 'Sadness', 'Surprise', 'Neutral']\n",
    "\n",
    "# # Функция для записи логов в файл\n",
    "# def log_emotion(image_name, emotion, confidence):\n",
    "#     log_dir = \"logs\"\n",
    "#     if not os.path.exists(log_dir):\n",
    "#         os.makedirs(log_dir)  # Создаем папку logs, если она не существует\n",
    "    \n",
    "#     log_file = os.path.join(log_dir, \"imglog.txt\")\n",
    "#     current_time = datetime.now().strftime(\"%Y-%m-%d %H:%M:%S\")  # Получаем текущее время\n",
    "#     log_entry = f\"{image_name} - {current_time} - {emotion} - {confidence:.2f}%\\n\"\n",
    "    \n",
    "#     with open(log_file, \"a\") as f:\n",
    "#         f.write(log_entry)  # Записываем лог в файл\n",
    "\n",
    "# # Функция для предсказания эмоции на изображении\n",
    "# def predict_emotion(frame, model, image_name):\n",
    "#     gray = cv2.cvtColor(frame, cv2.COLOR_BGR2GRAY)\n",
    "#     face_cascade = cv2.CascadeClassifier(cv2.data.haarcascades + 'haarcascade_frontalface_default.xml')\n",
    "#     faces = face_cascade.detectMultiScale(gray, scaleFactor=1.1, minNeighbors=5, minSize=(30, 30))\n",
    "    \n",
    "#     for (x, y, w, h) in faces:\n",
    "#         face = gray[y:y + h, x:x + w]\n",
    "#         face_resized = cv2.resize(face, (48, 48))\n",
    "#         face_normalized = face_resized / 255.0\n",
    "#         face_reshaped = np.expand_dims(face_normalized, axis=0)\n",
    "#         face_reshaped = np.expand_dims(face_reshaped, axis=-1)\n",
    "#         emotion_prediction = model.predict(face_reshaped)\n",
    "#         max_index = np.argmax(emotion_prediction[0])\n",
    "#         emotion = emotion_labels[max_index]\n",
    "#         confidence = np.max(emotion_prediction[0]) * 100\n",
    "        \n",
    "#         # Логируем эмоцию и точность\n",
    "#         log_emotion(image_name, emotion, confidence)\n",
    "        \n",
    "#         # Вывод эмоции и процента уверенности в консоль\n",
    "#         print(f\"Эмоция: {emotion}, Уверенность: {confidence:.2f}%\")\n",
    "\n",
    "#     return frame\n",
    "\n",
    "# # Функция для обработки изображения\n",
    "# def process_image(image_path):\n",
    "#     try:\n",
    "#         # Загрузка модели для распознавания эмоций\n",
    "#         model = tf.keras.models.load_model(\"model/model.h5\")\n",
    "#         print(\"Модель успешно загружена.\")\n",
    "#     except Exception as e:\n",
    "#         # Обработка ошибки загрузки модели\n",
    "#         print(f\"Ошибка загрузки модели: {e}\")\n",
    "#         return\n",
    "\n",
    "#     # Загрузка изображения\n",
    "#     frame = cv2.imread(image_path)\n",
    "#     if frame is None:\n",
    "#         # Обработка ошибки загрузки изображения\n",
    "#         print(\"Ошибка загрузки изображения.\")\n",
    "#         return\n",
    "\n",
    "#     # Получаем название файла из пути\n",
    "#     image_name = os.path.basename(image_path)\n",
    "\n",
    "#     # Определение эмоции на изображении\n",
    "#     predict_emotion(frame, model, image_name)\n",
    "    \n",
    "#     # Сообщение о завершении работы\n",
    "#     print(\"Работа завершена.\")\n",
    "#     return\n",
    "\n",
    "# # Основной блок кода\n",
    "# if __name__ == \"__main__\":\n",
    "#     # Ввод пути к изображению\n",
    "#     image_path = input(\"Введите путь к изображению: \")\n",
    "    \n",
    "#     # Преобразование пути в абсолютный\n",
    "#     image_path = os.path.abspath(image_path)\n",
    "\n",
    "#     # Проверка существования файла\n",
    "#     if not os.path.exists(image_path):\n",
    "#         print(f\"Файл не найден: {image_path}\")\n",
    "#     else:\n",
    "#         print(f\"Файл найден: {image_path}\")\n",
    "#         # Обработка изображения\n",
    "#         process_image(image_path)"
   ]
  }
 ],
 "metadata": {
  "kernelspec": {
   "display_name": "Python 3",
   "language": "python",
   "name": "python3"
  },
  "language_info": {
   "codemirror_mode": {
    "name": "ipython",
    "version": 3
   },
   "file_extension": ".py",
   "mimetype": "text/x-python",
   "name": "python",
   "nbconvert_exporter": "python",
   "pygments_lexer": "ipython3",
   "version": "3.12.2"
  }
 },
 "nbformat": 4,
 "nbformat_minor": 2
}
